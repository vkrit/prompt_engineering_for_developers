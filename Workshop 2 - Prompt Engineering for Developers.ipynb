{
 "cells": [
  {
   "cell_type": "markdown",
   "metadata": {
    "id": "nSBd3fOvS3nY"
   },
   "source": [
    "# 1. Load Libraries"
   ]
  },
  {
   "cell_type": "code",
   "execution_count": 22,
   "metadata": {
    "tags": []
   },
   "outputs": [
    {
     "name": "stdout",
     "output_type": "stream",
     "text": [
      "Requirement already satisfied: openai in /opt/homebrew/anaconda3/lib/python3.11/site-packages (0.28.0)\n",
      "Collecting openai\n",
      "  Using cached openai-1.2.4-py3-none-any.whl (220 kB)\n",
      "Requirement already satisfied: anyio<4,>=3.5.0 in /opt/homebrew/anaconda3/lib/python3.11/site-packages (from openai) (3.5.0)\n",
      "Requirement already satisfied: distro<2,>=1.7.0 in /opt/homebrew/anaconda3/lib/python3.11/site-packages (from openai) (1.8.0)\n",
      "Requirement already satisfied: httpx<1,>=0.23.0 in /opt/homebrew/anaconda3/lib/python3.11/site-packages (from openai) (0.24.1)\n",
      "Requirement already satisfied: pydantic<3,>=1.9.0 in /opt/homebrew/anaconda3/lib/python3.11/site-packages (from openai) (1.10.12)\n",
      "Requirement already satisfied: tqdm>4 in /opt/homebrew/anaconda3/lib/python3.11/site-packages (from openai) (4.65.0)\n",
      "Requirement already satisfied: typing-extensions<5,>=4.5 in /opt/homebrew/anaconda3/lib/python3.11/site-packages (from openai) (4.6.3)\n",
      "Requirement already satisfied: idna>=2.8 in /opt/homebrew/anaconda3/lib/python3.11/site-packages (from anyio<4,>=3.5.0->openai) (3.4)\n",
      "Requirement already satisfied: sniffio>=1.1 in /opt/homebrew/anaconda3/lib/python3.11/site-packages (from anyio<4,>=3.5.0->openai) (1.2.0)\n",
      "Requirement already satisfied: certifi in /opt/homebrew/anaconda3/lib/python3.11/site-packages (from httpx<1,>=0.23.0->openai) (2023.7.22)\n",
      "Requirement already satisfied: httpcore<0.18.0,>=0.15.0 in /opt/homebrew/anaconda3/lib/python3.11/site-packages (from httpx<1,>=0.23.0->openai) (0.17.3)\n",
      "Requirement already satisfied: h11<0.15,>=0.13 in /opt/homebrew/anaconda3/lib/python3.11/site-packages (from httpcore<0.18.0,>=0.15.0->httpx<1,>=0.23.0->openai) (0.14.0)\n",
      "Installing collected packages: openai\n",
      "  Attempting uninstall: openai\n",
      "    Found existing installation: openai 0.28.0\n",
      "    Uninstalling openai-0.28.0:\n",
      "      Successfully uninstalled openai-0.28.0\n",
      "Successfully installed openai-1.2.4\n"
     ]
    }
   ],
   "source": [
    "!pip install --upgrade openai"
   ]
  },
  {
   "cell_type": "code",
   "execution_count": 8,
   "metadata": {
    "colab": {
     "base_uri": "https://localhost:8080/"
    },
    "executionInfo": {
     "elapsed": 4499,
     "status": "ok",
     "timestamp": 1687846697169,
     "user": {
      "displayName": "Veerasak Kritsanapraphan",
      "userId": "00862396433982981232"
     },
     "user_tz": -420
    },
    "id": "_YhOSHxfzJBg",
    "outputId": "2521178d-f974-4621-ae26-53d14d997f54",
    "tags": []
   },
   "outputs": [
    {
     "name": "stdout",
     "output_type": "stream",
     "text": [
      "Requirement already satisfied: python-dotenv in /opt/homebrew/anaconda3/lib/python3.11/site-packages (0.21.0)\n"
     ]
    }
   ],
   "source": [
    "!pip install python-dotenv"
   ]
  },
  {
   "cell_type": "code",
   "execution_count": 1,
   "metadata": {
    "executionInfo": {
     "elapsed": 476,
     "status": "ok",
     "timestamp": 1687846703925,
     "user": {
      "displayName": "Veerasak Kritsanapraphan",
      "userId": "00862396433982981232"
     },
     "user_tz": -420
    },
    "id": "PYeUbM5OSzJS",
    "tags": []
   },
   "outputs": [],
   "source": [
    "from openai import OpenAI\n",
    "import os\n",
    "from dotenv import load_dotenv, find_dotenv\n",
    "\n",
    "load_dotenv('./.env')\n",
    "api_key  = os.getenv('OPENAI_API_KEY')"
   ]
  },
  {
   "cell_type": "markdown",
   "metadata": {
    "id": "a2Z2jRU1TCWh"
   },
   "source": [
    "## 2. Helper Function"
   ]
  },
  {
   "cell_type": "code",
   "execution_count": 8,
   "metadata": {
    "executionInfo": {
     "elapsed": 354,
     "status": "ok",
     "timestamp": 1687846729550,
     "user": {
      "displayName": "Veerasak Kritsanapraphan",
      "userId": "00862396433982981232"
     },
     "user_tz": -420
    },
    "id": "6tv4CnCjTGGC"
   },
   "outputs": [],
   "source": [
    "client = OpenAI(\n",
    "    # defaults to os.environ.get(\"OPENAI_API_KEY\")\n",
    "    api_key=api_key,\n",
    ")\n",
    "\n",
    "def get_completion(prompt, client_instance, model='gpt-3.5-turbo'):\n",
    "    messages = [{'role': 'user', 'content': prompt}]\n",
    "    response = client_instance.chat.completions.create(\n",
    "        model=model, \n",
    "        messages=messages,\n",
    "        temperature=0,\n",
    "    )\n",
    "    return response.choices[0].message.content"
   ]
  },
  {
   "cell_type": "markdown",
   "metadata": {
    "id": "Kld4v_zOTNlz"
   },
   "source": [
    " Use delimiters to clearly indicate distinct parts of the input¶\n",
    "Delimiters can be anything like: ```, \"\"\", < >, <tag> </tag>, :"
   ]
  },
  {
   "cell_type": "code",
   "execution_count": 9,
   "metadata": {
    "colab": {
     "base_uri": "https://localhost:8080/",
     "height": 389
    },
    "executionInfo": {
     "elapsed": 5,
     "status": "error",
     "timestamp": 1687846737771,
     "user": {
      "displayName": "Veerasak Kritsanapraphan",
      "userId": "00862396433982981232"
     },
     "user_tz": -420
    },
    "id": "dyIdWZgqTPzd",
    "outputId": "cb733959-412d-4784-cd1c-43551a6c51a5"
   },
   "outputs": [
    {
     "name": "stdout",
     "output_type": "stream",
     "text": [
      "To guide a model towards the desired output and minimize irrelevant or incorrect responses, it is important to provide clear and specific instructions, even if it means writing longer prompts that offer more clarity and context.\n"
     ]
    }
   ],
   "source": [
    "text = f\"\"\"\n",
    "You should express what you want a model to do by \\\n",
    "providing instructions that are as clear and \\\n",
    "specific as you can possibly make them. \\\n",
    "This will guide the model towards the desired output, \\\n",
    "and reduce the chances of receiving irrelevant \\\n",
    "or incorrect responses. Don't confuse writing a \\\n",
    "clear prompt with writing a short prompt. \\\n",
    "In many cases, longer prompts provide more clarity \\\n",
    "and context for the model, which can lead to \\\n",
    "more detailed and relevant outputs.\n",
    "\"\"\"\n",
    "prompt = f\"\"\"\n",
    "Summarize the text delimited by triple backticks \\\n",
    "into a single sentence.\n",
    "```{text}```\n",
    "\"\"\"\n",
    "response = get_completion(prompt, client)\n",
    "print(response)"
   ]
  },
  {
   "cell_type": "markdown",
   "metadata": {
    "id": "PT6qwbDcTipE"
   },
   "source": [
    "## Few-shot prompting"
   ]
  },
  {
   "cell_type": "code",
   "execution_count": 25,
   "metadata": {
    "colab": {
     "base_uri": "https://localhost:8080/"
    },
    "executionInfo": {
     "elapsed": 3094,
     "status": "ok",
     "timestamp": 1687769052028,
     "user": {
      "displayName": "Veerasak Kritsanapraphan",
      "userId": "00862396433982981232"
     },
     "user_tz": -420
    },
    "id": "7BgWHx5oTnBt",
    "outputId": "69cbf8bd-0a8f-4d3d-a95f-b0e9a6dc8e69"
   },
   "outputs": [
    {
     "name": "stdout",
     "output_type": "stream",
     "text": [
      "<grandparent>: Resilience is like a tree that bends with the wind but never breaks. It is the ability to bounce back from adversity and keep moving forward, even when things get tough. Just like a tree that grows stronger with each storm it weathers, resilience is a quality that can be developed and strengthened over time.\n"
     ]
    }
   ],
   "source": [
    "prompt = f\"\"\"\n",
    "Your task is to answer in a consistent style.\n",
    "\n",
    "<child>: Teach me about patience.\n",
    "\n",
    "<grandparent>: The river that carves the deepest \\\n",
    "valley flows from a modest spring; the \\\n",
    "grandest symphony originates from a single note; \\\n",
    "the most intricate tapestry begins with a solitary thread.\n",
    "\n",
    "<child>: Teach me about resilience.\n",
    "\"\"\"\n",
    "response = get_completion(prompt, client)\n",
    "print(response)"
   ]
  },
  {
   "cell_type": "markdown",
   "metadata": {
    "id": "B5AI44OrUJDb"
   },
   "source": [
    "## Model Hallucination"
   ]
  },
  {
   "cell_type": "code",
   "execution_count": 27,
   "metadata": {
    "colab": {
     "base_uri": "https://localhost:8080/"
    },
    "executionInfo": {
     "elapsed": 32406,
     "status": "ok",
     "timestamp": 1687769139357,
     "user": {
      "displayName": "Veerasak Kritsanapraphan",
      "userId": "00862396433982981232"
     },
     "user_tz": -420
    },
    "id": "TOZeZyheUMvU",
    "outputId": "f94ed47d-7f46-4b4a-a070-442681749912"
   },
   "outputs": [
    {
     "name": "stdout",
     "output_type": "stream",
     "text": [
      "ในปี 2563 ทักษิณ ชินวัตร กลับมาเมืองไทยเพื่อเข้ารับตำแหน่งนายกรัฐมนตรีไทยอีกครั้ง หลังจากที่เขาได้รับการเลือกเป็นนายกรัฐมนตรีครั้งแรกในปี 2551 และเป็นนายกรัฐมนตรีต่อเนื่องจนถึงปี 2562 ซึ่งเป็นการเป็นนายกรัฐมนตรีที่ยาวนานที่สุดในประวัติศาสตร์ไทย\n",
      "\n",
      "การกลับมาของทักษิณ ชินวัตรเมืองไทยในปี 2563 ได้รับความสนใจจากสื่อมวลชนและประชาชนทั่วไปอย่างมาก เนื่องจากเขาเป็นนายกรัฐมนตรีที่มีผลงานและการดำเนินงานที่สำคัญมากมาย เช่น การปรับปรุงระบบสาธารณสุข การสนับสนุนเกษตรกรและผู้ประกอบการ SME การสร้างโครงสร้างพื้นฐานทางการคมนาคม การสร้างงานและเพิ่มโอกาสในการทำธุรกิจ และการสร้างความเป็นอยู่ที่ดีให้กับประชาชนไทย\n",
      "\n",
      "นอกจากนี้ ทักษิณ ชินวัตรยังมีการดำเนินการปฏิรูปการเมืองและการปรับปรุงระบบกฎหมายให้เข้ากับสถานการณ์ปัจจุบัน โดยเฉพาะการปรับปรุงระบบการศึกษาและการเสริมสร้างความเท่าเทียมในสังคม ซึ่งเป็นเรื่องที่เขาให้ความสำคัญอย่างมาก\n",
      "\n",
      "ดังนั้น การกลับมาของทักษิณ ชินวัตรเมืองไทยในปี 2563 ถือเป็นเหตุการณ์ที่สำคัญและมีความสำคัญอย่างมากสำหรับประเทศไทย โดยมีความหวังว่าเขาจะดำเนินการให้ประเทศไทยเติบโตและพัฒนาต่อไปอย่างยั่งยืน และสร้างความเป็นอยู่ที่ดีให้กับประชาชนไทยทุกคน\n"
     ]
    }
   ],
   "source": [
    "prompt = f\"\"\"\n",
    "บอกฉันเกี่ยวกับเรื่องที่ ทักษิณ ชินวัตร กลับมาเมืองไทย ในปี 2563\n",
    "\"\"\"\n",
    "response = get_completion(prompt, client)\n",
    "print(response)"
   ]
  }
 ],
 "metadata": {
  "colab": {
   "authorship_tag": "ABX9TyOP4qN0ESVvDYZVqOEAk/8n",
   "provenance": []
  },
  "kernelspec": {
   "display_name": "Python 3 (ipykernel)",
   "language": "python",
   "name": "python3"
  },
  "language_info": {
   "codemirror_mode": {
    "name": "ipython",
    "version": 3
   },
   "file_extension": ".py",
   "mimetype": "text/x-python",
   "name": "python",
   "nbconvert_exporter": "python",
   "pygments_lexer": "ipython3",
   "version": "3.11.0"
  }
 },
 "nbformat": 4,
 "nbformat_minor": 4
}
