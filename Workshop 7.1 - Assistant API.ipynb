{
 "cells": [
  {
   "cell_type": "code",
   "execution_count": 22,
   "id": "e3bc61d7-d7cf-4b0e-924f-797e548a4aff",
   "metadata": {},
   "outputs": [
    {
     "data": {
      "text/html": [
       "<img src=\"./assistantapi.png\"/>"
      ],
      "text/plain": [
       "<IPython.core.display.Image object>"
      ]
     },
     "execution_count": 22,
     "metadata": {},
     "output_type": "execute_result"
    }
   ],
   "source": [
    "from IPython.display import Image\n",
    "from IPython.core.display import HTML \n",
    "Image(url= \"./assistantapi.png\")"
   ]
  },
  {
   "cell_type": "code",
   "execution_count": 2,
   "id": "d02d5696-38cf-46d7-a34d-148d870baaef",
   "metadata": {},
   "outputs": [],
   "source": [
    "from openai import OpenAI\n",
    "import os\n",
    "\n",
    "from dotenv import load_dotenv, find_dotenv\n",
    "_ = load_dotenv(find_dotenv()) # read local .env file\n",
    "\n",
    "api_key  = os.getenv('OPENAI_API_KEY')"
   ]
  },
  {
   "cell_type": "markdown",
   "id": "8177ca0d-f2be-4b1f-b134-84d60660e67b",
   "metadata": {},
   "source": [
    "## Helper Function"
   ]
  },
  {
   "cell_type": "code",
   "execution_count": 14,
   "id": "fb56d6ea-e7c3-4ef2-8b5a-6edb258ffe71",
   "metadata": {},
   "outputs": [],
   "source": [
    "import json\n",
    "\n",
    "def show_json(obj):\n",
    "    display(json.loads(obj.model_dump_json()))"
   ]
  },
  {
   "cell_type": "markdown",
   "id": "b104d0ed-6871-4246-9dcb-6c0c26eb4f97",
   "metadata": {},
   "source": [
    "## Create Assistant"
   ]
  },
  {
   "cell_type": "code",
   "execution_count": 4,
   "id": "765e04b1-f0a1-47e2-9ac5-4c3eca1c811d",
   "metadata": {},
   "outputs": [],
   "source": [
    "client = OpenAI(\n",
    "    # defaults to os.environ.get(\"OPENAI_API_KEY\")\n",
    "    api_key=api_key,\n",
    ")\n",
    "\n",
    "#Create Assisant\n",
    "assistant = client.beta.assistants.create(\n",
    "    name=\"General Knowledge Bot\",\n",
    "    instructions=\"You answer general knowledge questions as accurately as possible.\",\n",
    "    model=\"gpt-4-1106-preview\"\n",
    ")"
   ]
  },
  {
   "cell_type": "markdown",
   "id": "d1c1669a-174e-48d7-8d2c-c7ebabb1128b",
   "metadata": {},
   "source": [
    "## Create Thread"
   ]
  },
  {
   "cell_type": "code",
   "execution_count": 5,
   "id": "33a8a32e-7949-4884-9ad8-61a8ba012c81",
   "metadata": {},
   "outputs": [],
   "source": [
    "#Create Thread\n",
    "thread = client.beta.threads.create()"
   ]
  },
  {
   "cell_type": "markdown",
   "id": "704c8426-49f2-48db-9dcb-2325861fc68c",
   "metadata": {},
   "source": [
    "## Create Message"
   ]
  },
  {
   "cell_type": "code",
   "execution_count": 6,
   "id": "c6b6c2d8-0025-4b28-81c0-8663937ffae2",
   "metadata": {},
   "outputs": [],
   "source": [
    "#Create Message\n",
    "message = client.beta.threads.messages.create(\n",
    "    thread_id=thread.id,\n",
    "    role=\"user\",\n",
    "    content=\"What is the general weather like in Bangkok?\"\n",
    ")\n"
   ]
  },
  {
   "cell_type": "markdown",
   "id": "a38d1a89-0b9f-4fd6-8aa2-3bd2092a8a76",
   "metadata": {},
   "source": [
    "## Run Message"
   ]
  },
  {
   "cell_type": "code",
   "execution_count": 7,
   "id": "4a38073c-fbb4-447e-892f-7838868f1375",
   "metadata": {},
   "outputs": [],
   "source": [
    "run = client.beta.threads.runs.create(\n",
    "  thread_id=thread.id,\n",
    "  assistant_id=assistant.id,\n",
    "  instructions=\"Answer the question as accurately as possible.\"\n",
    ")\n"
   ]
  },
  {
   "cell_type": "markdown",
   "id": "9780902a-e50b-4d34-8a0c-a626467cdfa1",
   "metadata": {},
   "source": [
    "## Retrieve Response"
   ]
  },
  {
   "cell_type": "code",
   "execution_count": 18,
   "id": "b83250ab-ace7-4704-8d67-5abd812c6ab9",
   "metadata": {},
   "outputs": [
    {
     "data": {
      "text/plain": [
       "{'data': [{'id': 'msg_4MDEfeBbjMGyCrTmNHLGcKc0',\n",
       "   'assistant_id': 'asst_Q7kKwlNItfSQArqCkanIlglH',\n",
       "   'content': [{'text': {'annotations': [],\n",
       "      'value': 'Bangkok has a tropical monsoon climate, which means it\\'s generally hot and humid throughout the year with a distinct rainy season. The weather can be categorized into three main seasons:\\n\\n1. Hot Season (March to June): During this time, temperatures commonly rise above 30°C (86°F) with high humidity levels. The heat peaks in April, with temperatures sometimes soaring to 40°C (104°F).\\n\\n2. Rainy Season (July to October): This season is characterized by heavy rainfall as the southwest monsoon sets in. Despite the rain, temperatures remain high, usually around 25°C to 35°C (77°F to 95°F). Flooding can occur in parts of the city during this period.\\n\\n3. Cool Season (November to February): This is the most pleasant time of year in Bangkok when it\\'s relatively cooler and less humid. Temperatures during these months generally range from 20°C to 30°C (68°F to 86°F). The cool season is considered the best time to visit Bangkok.\\n\\nIt\\'s important to note that \"cool\" is a relative term here, and the cool season can still feel quite warm, especially for those not accustomed to tropical climates. Also, occasional rain is possible at any time of year. Weather patterns may vary slightly from year to year, and climate change could affect the predictability and intensity of weather events.'},\n",
       "     'type': 'text'}],\n",
       "   'created_at': 1707893025,\n",
       "   'file_ids': [],\n",
       "   'metadata': {},\n",
       "   'object': 'thread.message',\n",
       "   'role': 'assistant',\n",
       "   'run_id': 'run_ubOHVPqYdoCPIhfwOE26gPuP',\n",
       "   'thread_id': 'thread_RXnGWQxWVmFf0EgLdRGgq9lh'},\n",
       "  {'id': 'msg_MycGwkndCYyG0OiL295TyTnP',\n",
       "   'assistant_id': None,\n",
       "   'content': [{'text': {'annotations': [],\n",
       "      'value': 'What is the general weather like in Bangkok?'},\n",
       "     'type': 'text'}],\n",
       "   'created_at': 1707892983,\n",
       "   'file_ids': [],\n",
       "   'metadata': {},\n",
       "   'object': 'thread.message',\n",
       "   'role': 'user',\n",
       "   'run_id': None,\n",
       "   'thread_id': 'thread_RXnGWQxWVmFf0EgLdRGgq9lh'}],\n",
       " 'object': 'list',\n",
       " 'first_id': 'msg_4MDEfeBbjMGyCrTmNHLGcKc0',\n",
       " 'last_id': 'msg_MycGwkndCYyG0OiL295TyTnP',\n",
       " 'has_more': False}"
      ]
     },
     "metadata": {},
     "output_type": "display_data"
    }
   ],
   "source": [
    "#\n",
    "run = client.beta.threads.runs.retrieve(\n",
    "  thread_id=thread.id,\n",
    "  run_id=run.id\n",
    ")\n",
    "\n",
    "#\n",
    "messages = client.beta.threads.messages.list(\n",
    "  thread_id=thread.id\n",
    ")\n",
    "\n",
    "show_json(messages)"
   ]
  },
  {
   "cell_type": "code",
   "execution_count": null,
   "id": "3651e44b-9bc8-44d7-b290-d319681f339f",
   "metadata": {},
   "outputs": [],
   "source": []
  }
 ],
 "metadata": {
  "kernelspec": {
   "display_name": "Python 3 (ipykernel)",
   "language": "python",
   "name": "python3"
  },
  "language_info": {
   "codemirror_mode": {
    "name": "ipython",
    "version": 3
   },
   "file_extension": ".py",
   "mimetype": "text/x-python",
   "name": "python",
   "nbconvert_exporter": "python",
   "pygments_lexer": "ipython3",
   "version": "3.11.6"
  }
 },
 "nbformat": 4,
 "nbformat_minor": 5
}
